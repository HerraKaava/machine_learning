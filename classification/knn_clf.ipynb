{
 "cells": [
  {
   "cell_type": "code",
   "execution_count": 16,
   "id": "c85fd64f",
   "metadata": {},
   "outputs": [],
   "source": [
    "import random\n",
    "import numpy as np\n",
    "import pandas as pd\n",
    "import seaborn as sns\n",
    "import matplotlib.pyplot as plt\n",
    "from sklearn.datasets import fetch_openml\n",
    "from sklearn.pipeline import make_pipeline\n",
    "from sklearn.compose import ColumnTransformer\n",
    "from sklearn.neighbors import KNeighborsClassifier\n",
    "from sklearn.preprocessing import FunctionTransformer\n",
    "from sklearn.model_selection import cross_val_score, cross_val_predict, GridSearchCV\n",
    "from sklearn.metrics import confusion_matrix, ConfusionMatrixDisplay"
   ]
  },
  {
   "cell_type": "code",
   "execution_count": 2,
   "id": "6c39eaa7",
   "metadata": {},
   "outputs": [],
   "source": [
    "mnist = fetch_openml('mnist_784', as_frame=False)"
   ]
  },
  {
   "cell_type": "code",
   "execution_count": 3,
   "id": "67b13856",
   "metadata": {},
   "outputs": [
    {
     "name": "stdout",
     "output_type": "stream",
     "text": [
      "**Author**: Yann LeCun, Corinna Cortes, Christopher J.C. Burges  \n",
      "**Source**: [MNIST Website](http://yann.lecun.com/exdb/mnist/) - Date unknown  \n",
      "**Please cite**:  \n",
      "\n",
      "The MNIST database of handwritten digits with 784 features, raw data available at: http://yann.lecun.com/exdb/mnist/. It can be split in a training set of the first 60,000 examples, and a test set of 10,000 examples  \n",
      "\n",
      "It is a subset of a larger set available from NIST. The digits have been size-normalized and centered in a fixed-size image. It is a good database for people who want to try learning techniques and pattern recognition methods on real-world data while spending minimal efforts on preprocessing and formatting. The original black and white (bilevel) images from NIST were size normalized to fit in a 20x20 pixel box while preserving their aspect ratio. The resulting images contain grey levels as a result of the anti-aliasing technique used by the normalization algorithm. the images were centered in a 28x28 image by computing the center of mass of the pixels, and translating the image so as to position this point at the center of the 28x28 field.  \n",
      "\n",
      "With some classification methods (particularly template-based methods, such as SVM and K-nearest neighbors), the error rate improves when the digits are centered by bounding box rather than center of mass. If you do this kind of pre-processing, you should report it in your publications. The MNIST database was constructed from NIST's NIST originally designated SD-3 as their training set and SD-1 as their test set. However, SD-3 is much cleaner and easier to recognize than SD-1. The reason for this can be found on the fact that SD-3 was collected among Census Bureau employees, while SD-1 was collected among high-school students. Drawing sensible conclusions from learning experiments requires that the result be independent of the choice of training set and test among the complete set of samples. Therefore it was necessary to build a new database by mixing NIST's datasets.  \n",
      "\n",
      "The MNIST training set is composed of 30,000 patterns from SD-3 and 30,000 patterns from SD-1. Our test set was composed of 5,000 patterns from SD-3 and 5,000 patterns from SD-1. The 60,000 pattern training set contained examples from approximately 250 writers. We made sure that the sets of writers of the training set and test set were disjoint. SD-1 contains 58,527 digit images written by 500 different writers. In contrast to SD-3, where blocks of data from each writer appeared in sequence, the data in SD-1 is scrambled. Writer identities for SD-1 is available and we used this information to unscramble the writers. We then split SD-1 in two: characters written by the first 250 writers went into our new training set. The remaining 250 writers were placed in our test set. Thus we had two sets with nearly 30,000 examples each. The new training set was completed with enough examples from SD-3, starting at pattern # 0, to make a full set of 60,000 training patterns. Similarly, the new test set was completed with SD-3 examples starting at pattern # 35,000 to make a full set with 60,000 test patterns. Only a subset of 10,000 test images (5,000 from SD-1 and 5,000 from SD-3) is available on this site. The full 60,000 sample training set is available.\n",
      "\n",
      "Downloaded from openml.org.\n"
     ]
    }
   ],
   "source": [
    "print(mnist.DESCR)"
   ]
  },
  {
   "cell_type": "code",
   "execution_count": 4,
   "id": "316d4ff4",
   "metadata": {},
   "outputs": [],
   "source": [
    "X, y = mnist.data, mnist.target"
   ]
  },
  {
   "cell_type": "code",
   "execution_count": 5,
   "id": "a0f9cfcd",
   "metadata": {},
   "outputs": [
    {
     "name": "stdout",
     "output_type": "stream",
     "text": [
      "(70000, 784)\n",
      "(70000,)\n"
     ]
    }
   ],
   "source": [
    "print(X.shape)\n",
    "print(y.shape)"
   ]
  },
  {
   "cell_type": "markdown",
   "id": "2d3f7bf9",
   "metadata": {},
   "source": [
    "- 70,000 images, each image has 784 features (as each image is $\\, 28 \\times 28 \\,$ pixels).\n",
    "- Each feature represents one pixel's intensity, from 0 (white) to 255 (black).\n",
    "- First 60,000 images are the training samples, and the last 10,000 are the test samples."
   ]
  },
  {
   "cell_type": "markdown",
   "id": "4b4c941e",
   "metadata": {},
   "source": [
    "<h3>Data splits</h3>"
   ]
  },
  {
   "cell_type": "markdown",
   "id": "7c7aebb6",
   "metadata": {},
   "source": [
    "Before performing any kind of EDA, one should separate the data into training and test sets and set the test set aside to avoid data leakage."
   ]
  },
  {
   "cell_type": "code",
   "execution_count": 6,
   "id": "073699b6",
   "metadata": {},
   "outputs": [],
   "source": [
    "X_train, X_test, y_train, y_test = X[:60000,:], X[60000:,:], y[:60000], y[60000:]"
   ]
  },
  {
   "cell_type": "code",
   "execution_count": 7,
   "id": "035cbab4",
   "metadata": {},
   "outputs": [
    {
     "name": "stdout",
     "output_type": "stream",
     "text": [
      "##### Training data #####\n",
      "(60000, 784)\n",
      "(60000,)\n",
      "\n",
      "##### Test data #####\n",
      "(10000, 784)\n",
      "(10000,)\n"
     ]
    }
   ],
   "source": [
    "print('##### Training data #####')\n",
    "print(X_train.shape)\n",
    "print(y_train.shape)\n",
    "print()\n",
    "print('##### Test data #####')\n",
    "print(X_test.shape)\n",
    "print(y_test.shape)"
   ]
  },
  {
   "cell_type": "markdown",
   "id": "90feea94",
   "metadata": {},
   "source": [
    "<h3>Visuals</h3>"
   ]
  },
  {
   "cell_type": "code",
   "execution_count": 8,
   "id": "e5a30cbd",
   "metadata": {},
   "outputs": [],
   "source": [
    "def display_random_img(X_train, y_train):\n",
    "    \"\"\"\n",
    "    Displays a random image from the training data.\n",
    "    \"\"\"\n",
    "    num_images = X_train.shape[0]\n",
    "    random_idx = random.randint(0, num_images - 1)\n",
    "    reshaped_img = X_train[random_idx,:].reshape(28,28)\n",
    "    label = y_train[random_idx]\n",
    "    plt.figure(figsize=(6,4))\n",
    "    plt.imshow(reshaped_img, cmap='binary')\n",
    "    plt.title(f'Label: {label}');"
   ]
  },
  {
   "cell_type": "code",
   "execution_count": 9,
   "id": "d8f026a1",
   "metadata": {},
   "outputs": [
    {
     "data": {
      "image/png": "[encoded data removed]",
      "text/plain": [
       "<Figure size 600x400 with 1 Axes>"
      ]
     },
     "metadata": {},
     "output_type": "display_data"
    }
   ],
   "source": [
    "display_random_img(X_train, y_train)"
   ]
  },
  {
   "cell_type": "code",
   "execution_count": 10,
   "id": "61238e3e",
   "metadata": {},
   "outputs": [
    {
     "data": {
      "image/png": "[encoded data removed]",
      "text/plain": [
       "<Figure size 640x480 with 1 Axes>"
      ]
     },
     "metadata": {},
     "output_type": "display_data"
    }
   ],
   "source": [
    "sns.barplot(np.unique(y_train, return_counts=True)[1], edgecolor='black');"
   ]
  },
  {
   "cell_type": "code",
   "execution_count": 11,
   "id": "395509f2",
   "metadata": {},
   "outputs": [
    {
     "data": {
      "text/plain": [
       "array([[0.0987],\n",
       "       [0.1124],\n",
       "       [0.0993],\n",
       "       [0.1022],\n",
       "       [0.0974],\n",
       "       [0.0904],\n",
       "       [0.0986],\n",
       "       [0.1044],\n",
       "       [0.0975],\n",
       "       [0.0992]])"
      ]
     },
     "execution_count": 11,
     "metadata": {},
     "output_type": "execute_result"
    }
   ],
   "source": [
    "(np.unique(y_train, return_counts=True)[1] / y_train.shape[0])[:,np.newaxis].round(4)"
   ]
  },
  {
   "cell_type": "markdown",
   "id": "053bd3b7",
   "metadata": {},
   "source": [
    "<h3>KNN Classifier</h3>"
   ]
  },
  {
   "cell_type": "code",
   "execution_count": 14,
   "id": "c3036614",
   "metadata": {},
   "outputs": [],
   "source": [
    "def normalize(X):\n",
    "    X_scaled = X / 255.0\n",
    "    return X_scaled"
   ]
  },
  {
   "cell_type": "code",
   "execution_count": 23,
   "id": "ccae42c9",
   "metadata": {},
   "outputs": [],
   "source": [
    "def knn_gridCV(X_train, y_train):\n",
    "    pipe = make_pipeline(FunctionTransformer(normalize), \n",
    "                         KNeighborsClassifier())\n",
    "    param_grid = [\n",
    "        {\n",
    "            'kneighborsclassifier__n_neighbors': np.arange(1,11),\n",
    "            'kneighborsclassifier__weights': ['uniform', 'distance']\n",
    "        }\n",
    "    ]\n",
    "    grid_search = GridSearchCV(estimator=pipe,\n",
    "                               param_grid=param_grid,\n",
    "                               cv=3,\n",
    "                               scoring='accuracy')\n",
    "    grid_search.fit(X_train, y_train)\n",
    "    return grid_search"
   ]
  },
  {
   "cell_type": "code",
   "execution_count": 24,
   "id": "7ef56c63",
   "metadata": {},
   "outputs": [],
   "source": [
    "knn_clf_grid_search = knn_gridCV(X_train, y_train)"
   ]
  },
  {
   "cell_type": "code",
   "execution_count": 25,
   "id": "45c1bbec",
   "metadata": {},
   "outputs": [
    {
     "data": {
      "text/plain": [
       "{'kneighborsclassifier__n_neighbors': np.int64(4),\n",
       " 'kneighborsclassifier__weights': 'distance'}"
      ]
     },
     "execution_count": 25,
     "metadata": {},
     "output_type": "execute_result"
    }
   ],
   "source": [
    "knn_clf_grid_search.best_params_"
   ]
  },
  {
   "cell_type": "code",
   "execution_count": 27,
   "id": "5966a3e4",
   "metadata": {},
   "outputs": [],
   "source": [
    "y_pred_train = knn_clf_grid_search.predict(X_train)\n",
    "y_pred_test = knn_clf_grid_search.predict(X_test)"
   ]
  },
  {
   "cell_type": "code",
   "execution_count": 28,
   "id": "6612b510",
   "metadata": {},
   "outputs": [],
   "source": [
    "def accuracy(y_true, y_pred):\n",
    "    n = y_true.shape[0]\n",
    "    return (y_true == y_pred).sum() / n"
   ]
  },
  {
   "cell_type": "code",
   "execution_count": 29,
   "id": "85861f1b",
   "metadata": {},
   "outputs": [
    {
     "data": {
      "text/plain": [
       "np.float64(1.0)"
      ]
     },
     "execution_count": 29,
     "metadata": {},
     "output_type": "execute_result"
    }
   ],
   "source": [
    "accuracy(y_train, y_pred_train)"
   ]
  },
  {
   "cell_type": "code",
   "execution_count": 31,
   "id": "972c8075",
   "metadata": {},
   "outputs": [
    {
     "data": {
      "text/plain": [
       "np.float64(0.9714)"
      ]
     },
     "execution_count": 31,
     "metadata": {},
     "output_type": "execute_result"
    }
   ],
   "source": [
    "accuracy(y_test, y_pred_test)"
   ]
  },
  {
   "cell_type": "markdown",
   "id": "25b1ab23",
   "metadata": {},
   "source": [
    "A word about sklearn pipelines:\n",
    "\n",
    "- When you use sklearn pipelines, all transformations defined in the pipeline are applied to the input data in a sequence before the final step (i.e., before the model makes predictions).\n",
    "- This ensures that any preprocessing steps that are applied to the training data are applied to the test data as well.\n",
    "- This means that when calling `knn_clf_grid_search_predict(X_test)`, the pipeline applies sequentially all the transforms specified in the pipeline to the test data as well before finally making the predictions.\n",
    "\n",
    "Note:\n",
    "\n",
    "- All sklearn transformations specified in the pipelines need to have the `fit` and `transform` methods (or at least `transform`, if no fitting is required).\n",
    "- Sklearn pipelines process data sequentially through transformers and a final estimator.\n",
    "- **Each transformer in the pipeline must implement a `transform` method to modify the data.**\n",
    "- For the this reason, when making custom functions such as `normalize()` above, we need to wrap them inside `FunctionTransformer` that wraps custom functions into sklearn-compatible transformers (it essentially \"translates\" the plain function into an object that implements the required `transform` method)."
   ]
  }
 ],
 "metadata": {
  "kernelspec": {
   "display_name": "Python 3 (ipykernel)",
   "language": "python",
   "name": "python3"
  },
  "language_info": {
   "codemirror_mode": {
    "name": "ipython",
    "version": 3
   },
   "file_extension": ".py",
   "mimetype": "text/x-python",
   "name": "python",
   "nbconvert_exporter": "python",
   "pygments_lexer": "ipython3",
   "version": "3.12.7"
  }
 },
 "nbformat": 4,
 "nbformat_minor": 5
}
